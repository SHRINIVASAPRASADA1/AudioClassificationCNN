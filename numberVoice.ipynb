{
 "cells": [
  {
   "cell_type": "code",
   "execution_count": 1,
   "metadata": {},
   "outputs": [],
   "source": [
    "# features=librosa.feature.mfcc(y=data,sr=s_r,n_mfcc=40)\n",
    "# data,s_r=librosa.load(\"audio/free-spoken-digit-dataset-master/recordings/0_george_2.wav\")\n"
   ]
  },
  {
   "cell_type": "code",
   "execution_count": null,
   "metadata": {},
   "outputs": [],
   "source": [
    "import numpy as np\n",
    "import os\n",
    "import tensorflow as tf\n",
    "import pandas as pd\n",
    "from sklearn.utils import shuffle\n",
    "from tensorflow.keras import Sequential\n",
    "from tensorflow.keras.layers import Dense, Conv2D, MaxPooling2D, Flatten, BatchNormalization, Dropout, Activation, Conv1D, MaxPooling1D\n",
    "import IPython.display as ids\n",
    "import librosa.display as ldis\n",
    "import matplotlib.pyplot as plt\n",
    "import librosa\n"
   ]
  },
  {
   "cell_type": "code",
   "execution_count": 3,
   "metadata": {},
   "outputs": [],
   "source": [
    "PATH = \"/home/shrinivasaprasada/Desktop/workspace/ml/audio/free-spoken-digit-dataset-master/recordings\"\n",
    "dataset = []\n",
    "x = []\n",
    "y = []\n"
   ]
  },
  {
   "cell_type": "code",
   "execution_count": 4,
   "metadata": {},
   "outputs": [],
   "source": [
    "\n",
    "def extract_features(PATH, IMG):\n",
    "    data, sr = librosa.load(os.path.join(PATH, IMG), res_type=\"kaiser_fast\")\n",
    "    feature = librosa.feature.mfcc(y=data, sr=sr, n_mfcc=40)\n",
    "    scale_features = np.mean(feature.T, axis=0)\n",
    "    return scale_features\n",
    "\n",
    "\n",
    "def get_Label(item):\n",
    "    return str(item[0])\n"
   ]
  },
  {
   "cell_type": "code",
   "execution_count": 5,
   "metadata": {},
   "outputs": [],
   "source": [
    "for item in os.listdir(PATH):\n",
    "    extra = extract_features(PATH=PATH, IMG=item)\n",
    "    label = get_Label(item=item)\n",
    "    x.append(extra)\n",
    "    y.append(label)\n",
    "    dataset.append([extra, int(label)])\n"
   ]
  },
  {
   "cell_type": "code",
   "execution_count": 6,
   "metadata": {},
   "outputs": [],
   "source": [
    "\n",
    "csv_dataset = pd.DataFrame(dataset, columns=['features', 'label'])\n"
   ]
  },
  {
   "cell_type": "code",
   "execution_count": 7,
   "metadata": {},
   "outputs": [],
   "source": [
    "features = np.array(csv_dataset['features'].tolist(),dtype=np.float32)\n",
    "label = np.array(csv_dataset['label'].tolist(),dtype=np.int32)\n"
   ]
  },
  {
   "cell_type": "code",
   "execution_count": 8,
   "metadata": {},
   "outputs": [
    {
     "name": "stderr",
     "output_type": "stream",
     "text": [
      "2023-01-08 14:33:56.095447: W tensorflow/compiler/xla/stream_executor/platform/default/dso_loader.cc:64] Could not load dynamic library 'libcuda.so.1'; dlerror: libcuda.so.1: cannot open shared object file: No such file or directory\n",
      "2023-01-08 14:33:56.095554: W tensorflow/compiler/xla/stream_executor/cuda/cuda_driver.cc:265] failed call to cuInit: UNKNOWN ERROR (303)\n",
      "2023-01-08 14:33:56.095650: I tensorflow/compiler/xla/stream_executor/cuda/cuda_diagnostics.cc:156] kernel driver does not appear to be running on this host (root): /proc/driver/nvidia/version does not exist\n",
      "2023-01-08 14:33:56.096464: I tensorflow/core/platform/cpu_feature_guard.cc:193] This TensorFlow binary is optimized with oneAPI Deep Neural Network Library (oneDNN) to use the following CPU instructions in performance-critical operations:  AVX2 FMA\n",
      "To enable them in other operations, rebuild TensorFlow with the appropriate compiler flags.\n"
     ]
    }
   ],
   "source": [
    "model = Sequential([\n",
    "\n",
    "    Conv1D(32, kernel_size=3, activation='relu', input_shape=(40, 1)),\n",
    "    MaxPooling1D(pool_size=2),\n",
    "\n",
    "    Conv1D(32, kernel_size=3, activation='relu'),\n",
    "    MaxPooling1D(pool_size=2),\n",
    "\n",
    "    Flatten(),\n",
    "\n",
    "    Dense(64, activation='relu'),\n",
    "    Dense(10, activation='softmax'),\n",
    "])\n"
   ]
  },
  {
   "cell_type": "code",
   "execution_count": 9,
   "metadata": {},
   "outputs": [],
   "source": [
    "model.compile(loss='sparse_categorical_crossentropy',\n",
    "              optimizer='adam', metrics=['accuracy'])\n"
   ]
  },
  {
   "cell_type": "code",
   "execution_count": 10,
   "metadata": {},
   "outputs": [
    {
     "name": "stdout",
     "output_type": "stream",
     "text": [
      "Epoch 1/100\n",
      "270/270 [==============================] - 2s 5ms/step - loss: 1.7194 - accuracy: 0.5352 - val_loss: 0.7171 - val_accuracy: 0.7367\n",
      "Epoch 2/100\n",
      "270/270 [==============================] - 1s 4ms/step - loss: 0.5044 - accuracy: 0.8407 - val_loss: 0.4187 - val_accuracy: 0.8433\n",
      "Epoch 3/100\n",
      "270/270 [==============================] - 1s 4ms/step - loss: 0.3231 - accuracy: 0.9000 - val_loss: 0.2393 - val_accuracy: 0.9300\n",
      "Epoch 4/100\n",
      "270/270 [==============================] - 1s 4ms/step - loss: 0.2632 - accuracy: 0.9093 - val_loss: 0.3637 - val_accuracy: 0.8767\n",
      "Epoch 5/100\n",
      "270/270 [==============================] - 1s 3ms/step - loss: 0.2063 - accuracy: 0.9300 - val_loss: 0.1830 - val_accuracy: 0.9367\n",
      "Epoch 6/100\n",
      "270/270 [==============================] - 1s 4ms/step - loss: 0.1768 - accuracy: 0.9404 - val_loss: 0.1791 - val_accuracy: 0.9433\n",
      "Epoch 7/100\n",
      "270/270 [==============================] - 1s 4ms/step - loss: 0.1313 - accuracy: 0.9593 - val_loss: 0.2440 - val_accuracy: 0.9200\n",
      "Epoch 8/100\n",
      "270/270 [==============================] - 1s 4ms/step - loss: 0.1269 - accuracy: 0.9593 - val_loss: 0.1921 - val_accuracy: 0.9400\n",
      "Epoch 9/100\n",
      "270/270 [==============================] - 1s 3ms/step - loss: 0.1075 - accuracy: 0.9648 - val_loss: 0.1508 - val_accuracy: 0.9533\n",
      "Epoch 10/100\n",
      "270/270 [==============================] - 1s 4ms/step - loss: 0.0844 - accuracy: 0.9715 - val_loss: 0.2231 - val_accuracy: 0.9400\n",
      "Epoch 11/100\n",
      "270/270 [==============================] - 1s 4ms/step - loss: 0.0931 - accuracy: 0.9685 - val_loss: 0.2118 - val_accuracy: 0.9600\n",
      "Epoch 12/100\n",
      "270/270 [==============================] - 1s 3ms/step - loss: 0.0866 - accuracy: 0.9693 - val_loss: 0.1872 - val_accuracy: 0.9400\n",
      "Epoch 13/100\n",
      "270/270 [==============================] - 1s 3ms/step - loss: 0.0762 - accuracy: 0.9767 - val_loss: 0.1717 - val_accuracy: 0.9533\n",
      "Epoch 14/100\n",
      "270/270 [==============================] - 1s 3ms/step - loss: 0.0712 - accuracy: 0.9763 - val_loss: 0.1436 - val_accuracy: 0.9667\n",
      "Epoch 15/100\n",
      "270/270 [==============================] - 1s 3ms/step - loss: 0.0630 - accuracy: 0.9833 - val_loss: 0.2165 - val_accuracy: 0.9333\n",
      "Epoch 16/100\n",
      "270/270 [==============================] - 1s 3ms/step - loss: 0.0414 - accuracy: 0.9878 - val_loss: 0.1823 - val_accuracy: 0.9533\n",
      "Epoch 17/100\n",
      "270/270 [==============================] - 1s 3ms/step - loss: 0.0809 - accuracy: 0.9730 - val_loss: 0.1508 - val_accuracy: 0.9467\n",
      "Epoch 18/100\n",
      "270/270 [==============================] - 1s 3ms/step - loss: 0.0447 - accuracy: 0.9856 - val_loss: 0.2134 - val_accuracy: 0.9467\n",
      "Epoch 19/100\n",
      "270/270 [==============================] - 1s 4ms/step - loss: 0.0475 - accuracy: 0.9811 - val_loss: 0.1894 - val_accuracy: 0.9533\n",
      "Epoch 20/100\n",
      "270/270 [==============================] - 1s 3ms/step - loss: 0.0444 - accuracy: 0.9856 - val_loss: 0.1532 - val_accuracy: 0.9500\n",
      "Epoch 21/100\n",
      "270/270 [==============================] - 1s 3ms/step - loss: 0.0201 - accuracy: 0.9930 - val_loss: 0.1609 - val_accuracy: 0.9533\n",
      "Epoch 22/100\n",
      "270/270 [==============================] - 1s 3ms/step - loss: 0.0333 - accuracy: 0.9885 - val_loss: 0.1250 - val_accuracy: 0.9733\n",
      "Epoch 23/100\n",
      "270/270 [==============================] - 1s 3ms/step - loss: 0.0577 - accuracy: 0.9819 - val_loss: 0.1864 - val_accuracy: 0.9500\n",
      "Epoch 24/100\n",
      "270/270 [==============================] - 1s 3ms/step - loss: 0.0607 - accuracy: 0.9822 - val_loss: 0.1951 - val_accuracy: 0.9467\n",
      "Epoch 25/100\n",
      "270/270 [==============================] - 1s 3ms/step - loss: 0.0594 - accuracy: 0.9785 - val_loss: 0.1782 - val_accuracy: 0.9533\n",
      "Epoch 26/100\n",
      "270/270 [==============================] - 1s 3ms/step - loss: 0.0299 - accuracy: 0.9896 - val_loss: 0.1586 - val_accuracy: 0.9667\n",
      "Epoch 27/100\n",
      "270/270 [==============================] - 1s 3ms/step - loss: 0.0112 - accuracy: 0.9963 - val_loss: 0.1947 - val_accuracy: 0.9600\n",
      "Epoch 28/100\n",
      "270/270 [==============================] - 1s 3ms/step - loss: 0.0029 - accuracy: 1.0000 - val_loss: 0.1870 - val_accuracy: 0.9667\n",
      "Epoch 29/100\n",
      "270/270 [==============================] - 1s 4ms/step - loss: 0.0012 - accuracy: 1.0000 - val_loss: 0.1982 - val_accuracy: 0.9667\n",
      "Epoch 30/100\n",
      "270/270 [==============================] - 1s 5ms/step - loss: 0.0017 - accuracy: 1.0000 - val_loss: 0.2165 - val_accuracy: 0.9633\n",
      "Epoch 31/100\n",
      "270/270 [==============================] - 1s 3ms/step - loss: 0.0608 - accuracy: 0.9841 - val_loss: 0.1314 - val_accuracy: 0.9700\n",
      "Epoch 32/100\n",
      "270/270 [==============================] - 1s 3ms/step - loss: 0.0839 - accuracy: 0.9678 - val_loss: 0.2542 - val_accuracy: 0.9367\n",
      "Epoch 33/100\n",
      "270/270 [==============================] - 1s 3ms/step - loss: 0.0563 - accuracy: 0.9800 - val_loss: 0.1515 - val_accuracy: 0.9600\n",
      "Epoch 34/100\n",
      "270/270 [==============================] - 1s 3ms/step - loss: 0.0304 - accuracy: 0.9896 - val_loss: 0.1617 - val_accuracy: 0.9567\n",
      "Epoch 35/100\n",
      "270/270 [==============================] - 1s 4ms/step - loss: 0.0223 - accuracy: 0.9911 - val_loss: 0.1779 - val_accuracy: 0.9567\n",
      "Epoch 36/100\n",
      "270/270 [==============================] - 1s 3ms/step - loss: 0.0270 - accuracy: 0.9911 - val_loss: 0.1990 - val_accuracy: 0.9600\n",
      "Epoch 37/100\n",
      "270/270 [==============================] - 1s 4ms/step - loss: 0.0259 - accuracy: 0.9930 - val_loss: 0.2088 - val_accuracy: 0.9600\n",
      "Epoch 38/100\n",
      "270/270 [==============================] - 1s 5ms/step - loss: 0.0182 - accuracy: 0.9919 - val_loss: 0.2224 - val_accuracy: 0.9567\n",
      "Epoch 39/100\n",
      "270/270 [==============================] - 1s 3ms/step - loss: 0.0096 - accuracy: 0.9959 - val_loss: 0.1552 - val_accuracy: 0.9667\n",
      "Epoch 40/100\n",
      "270/270 [==============================] - 1s 3ms/step - loss: 0.0014 - accuracy: 1.0000 - val_loss: 0.1861 - val_accuracy: 0.9633\n",
      "Epoch 41/100\n",
      "270/270 [==============================] - 1s 3ms/step - loss: 0.0349 - accuracy: 0.9874 - val_loss: 0.2010 - val_accuracy: 0.9400\n",
      "Epoch 42/100\n",
      "270/270 [==============================] - 1s 3ms/step - loss: 0.0405 - accuracy: 0.9848 - val_loss: 0.3124 - val_accuracy: 0.9367\n",
      "Epoch 43/100\n",
      "270/270 [==============================] - 1s 3ms/step - loss: 0.0443 - accuracy: 0.9867 - val_loss: 0.2214 - val_accuracy: 0.9467\n",
      "Epoch 44/100\n",
      "270/270 [==============================] - 1s 3ms/step - loss: 0.0126 - accuracy: 0.9963 - val_loss: 0.2064 - val_accuracy: 0.9667\n",
      "Epoch 45/100\n",
      "270/270 [==============================] - 1s 3ms/step - loss: 0.0073 - accuracy: 0.9974 - val_loss: 0.2151 - val_accuracy: 0.9667\n",
      "Epoch 46/100\n",
      "270/270 [==============================] - 1s 3ms/step - loss: 0.0322 - accuracy: 0.9900 - val_loss: 0.2834 - val_accuracy: 0.9433\n",
      "Epoch 47/100\n",
      "270/270 [==============================] - 1s 3ms/step - loss: 0.0299 - accuracy: 0.9915 - val_loss: 0.2475 - val_accuracy: 0.9500\n",
      "Epoch 48/100\n",
      "270/270 [==============================] - 1s 3ms/step - loss: 0.0011 - accuracy: 0.9996 - val_loss: 0.2396 - val_accuracy: 0.9600\n",
      "Epoch 49/100\n",
      "270/270 [==============================] - 1s 3ms/step - loss: 0.0156 - accuracy: 0.9948 - val_loss: 0.2438 - val_accuracy: 0.9633\n",
      "Epoch 50/100\n",
      "270/270 [==============================] - 1s 3ms/step - loss: 0.0974 - accuracy: 0.9707 - val_loss: 0.3248 - val_accuracy: 0.9500\n",
      "Epoch 51/100\n",
      "270/270 [==============================] - 1s 3ms/step - loss: 0.0187 - accuracy: 0.9937 - val_loss: 0.2216 - val_accuracy: 0.9600\n",
      "Epoch 52/100\n",
      "270/270 [==============================] - 1s 3ms/step - loss: 0.0116 - accuracy: 0.9974 - val_loss: 0.2038 - val_accuracy: 0.9567\n",
      "Epoch 53/100\n",
      "270/270 [==============================] - 1s 3ms/step - loss: 0.0020 - accuracy: 0.9993 - val_loss: 0.2112 - val_accuracy: 0.9533\n",
      "Epoch 54/100\n",
      "270/270 [==============================] - 1s 3ms/step - loss: 4.4867e-04 - accuracy: 1.0000 - val_loss: 0.2083 - val_accuracy: 0.9533\n",
      "Epoch 55/100\n",
      "270/270 [==============================] - 1s 3ms/step - loss: 2.4215e-04 - accuracy: 1.0000 - val_loss: 0.2089 - val_accuracy: 0.9533\n",
      "Epoch 56/100\n",
      "270/270 [==============================] - 1s 3ms/step - loss: 1.5929e-04 - accuracy: 1.0000 - val_loss: 0.2124 - val_accuracy: 0.9533\n",
      "Epoch 57/100\n",
      "270/270 [==============================] - 1s 5ms/step - loss: 1.2760e-04 - accuracy: 1.0000 - val_loss: 0.2147 - val_accuracy: 0.9567\n",
      "Epoch 58/100\n",
      "270/270 [==============================] - 1s 3ms/step - loss: 1.0824e-04 - accuracy: 1.0000 - val_loss: 0.2176 - val_accuracy: 0.9600\n",
      "Epoch 59/100\n",
      "270/270 [==============================] - 1s 4ms/step - loss: 9.4549e-05 - accuracy: 1.0000 - val_loss: 0.2202 - val_accuracy: 0.9600\n",
      "Epoch 60/100\n",
      "270/270 [==============================] - 1s 4ms/step - loss: 8.2732e-05 - accuracy: 1.0000 - val_loss: 0.2222 - val_accuracy: 0.9600\n",
      "Epoch 61/100\n",
      "270/270 [==============================] - 1s 4ms/step - loss: 7.3562e-05 - accuracy: 1.0000 - val_loss: 0.2252 - val_accuracy: 0.9600\n",
      "Epoch 62/100\n",
      "270/270 [==============================] - 1s 3ms/step - loss: 6.5640e-05 - accuracy: 1.0000 - val_loss: 0.2279 - val_accuracy: 0.9633\n",
      "Epoch 63/100\n",
      "270/270 [==============================] - 1s 3ms/step - loss: 5.8997e-05 - accuracy: 1.0000 - val_loss: 0.2293 - val_accuracy: 0.9600\n",
      "Epoch 64/100\n",
      "270/270 [==============================] - 1s 3ms/step - loss: 5.2996e-05 - accuracy: 1.0000 - val_loss: 0.2327 - val_accuracy: 0.9600\n",
      "Epoch 65/100\n",
      "270/270 [==============================] - 1s 3ms/step - loss: 4.7371e-05 - accuracy: 1.0000 - val_loss: 0.2362 - val_accuracy: 0.9600\n",
      "Epoch 66/100\n",
      "270/270 [==============================] - 1s 3ms/step - loss: 4.2431e-05 - accuracy: 1.0000 - val_loss: 0.2368 - val_accuracy: 0.9600\n",
      "Epoch 67/100\n",
      "270/270 [==============================] - 1s 3ms/step - loss: 3.8352e-05 - accuracy: 1.0000 - val_loss: 0.2411 - val_accuracy: 0.9600\n",
      "Epoch 68/100\n",
      "270/270 [==============================] - 1s 3ms/step - loss: 3.5384e-05 - accuracy: 1.0000 - val_loss: 0.2434 - val_accuracy: 0.9600\n",
      "Epoch 69/100\n",
      "270/270 [==============================] - 1s 3ms/step - loss: 3.1920e-05 - accuracy: 1.0000 - val_loss: 0.2460 - val_accuracy: 0.9600\n",
      "Epoch 70/100\n",
      "270/270 [==============================] - 1s 3ms/step - loss: 2.8172e-05 - accuracy: 1.0000 - val_loss: 0.2457 - val_accuracy: 0.9600\n",
      "Epoch 71/100\n",
      "270/270 [==============================] - 1s 3ms/step - loss: 2.5375e-05 - accuracy: 1.0000 - val_loss: 0.2503 - val_accuracy: 0.9600\n",
      "Epoch 72/100\n",
      "270/270 [==============================] - 1s 3ms/step - loss: 2.3171e-05 - accuracy: 1.0000 - val_loss: 0.2516 - val_accuracy: 0.9600\n",
      "Epoch 73/100\n",
      "270/270 [==============================] - 1s 5ms/step - loss: 2.0642e-05 - accuracy: 1.0000 - val_loss: 0.2542 - val_accuracy: 0.9600\n",
      "Epoch 74/100\n",
      "270/270 [==============================] - 1s 3ms/step - loss: 1.8542e-05 - accuracy: 1.0000 - val_loss: 0.2505 - val_accuracy: 0.9600\n",
      "Epoch 75/100\n",
      "270/270 [==============================] - 1s 3ms/step - loss: 1.6487e-05 - accuracy: 1.0000 - val_loss: 0.2599 - val_accuracy: 0.9633\n",
      "Epoch 76/100\n",
      "270/270 [==============================] - 1s 3ms/step - loss: 1.5474e-05 - accuracy: 1.0000 - val_loss: 0.2591 - val_accuracy: 0.9600\n",
      "Epoch 77/100\n",
      "270/270 [==============================] - 1s 3ms/step - loss: 1.3275e-05 - accuracy: 1.0000 - val_loss: 0.2668 - val_accuracy: 0.9600\n",
      "Epoch 78/100\n",
      "270/270 [==============================] - 1s 4ms/step - loss: 1.2501e-05 - accuracy: 1.0000 - val_loss: 0.2580 - val_accuracy: 0.9600\n",
      "Epoch 79/100\n",
      "270/270 [==============================] - 1s 3ms/step - loss: 1.0894e-05 - accuracy: 1.0000 - val_loss: 0.2615 - val_accuracy: 0.9600\n",
      "Epoch 80/100\n",
      "270/270 [==============================] - 1s 3ms/step - loss: 9.8195e-06 - accuracy: 1.0000 - val_loss: 0.2650 - val_accuracy: 0.9600\n",
      "Epoch 81/100\n",
      "270/270 [==============================] - 1s 3ms/step - loss: 8.7423e-06 - accuracy: 1.0000 - val_loss: 0.2772 - val_accuracy: 0.9600\n",
      "Epoch 82/100\n",
      "270/270 [==============================] - 1s 3ms/step - loss: 7.7616e-06 - accuracy: 1.0000 - val_loss: 0.2691 - val_accuracy: 0.9633\n",
      "Epoch 83/100\n",
      "270/270 [==============================] - 1s 3ms/step - loss: 7.2944e-06 - accuracy: 1.0000 - val_loss: 0.2722 - val_accuracy: 0.9600\n",
      "Epoch 84/100\n",
      "270/270 [==============================] - 1s 3ms/step - loss: 6.1071e-06 - accuracy: 1.0000 - val_loss: 0.2720 - val_accuracy: 0.9600\n",
      "Epoch 85/100\n",
      "270/270 [==============================] - 1s 3ms/step - loss: 5.8538e-06 - accuracy: 1.0000 - val_loss: 0.2782 - val_accuracy: 0.9600\n",
      "Epoch 86/100\n",
      "270/270 [==============================] - 1s 3ms/step - loss: 4.8678e-06 - accuracy: 1.0000 - val_loss: 0.2774 - val_accuracy: 0.9600\n",
      "Epoch 87/100\n",
      "270/270 [==============================] - 1s 3ms/step - loss: 4.4404e-06 - accuracy: 1.0000 - val_loss: 0.2831 - val_accuracy: 0.9600\n",
      "Epoch 88/100\n",
      "270/270 [==============================] - 1s 3ms/step - loss: 3.8017e-06 - accuracy: 1.0000 - val_loss: 0.2825 - val_accuracy: 0.9633\n",
      "Epoch 89/100\n",
      "270/270 [==============================] - 0s 2ms/step - loss: 3.5645e-06 - accuracy: 1.0000 - val_loss: 0.3021 - val_accuracy: 0.9667\n",
      "Epoch 90/100\n",
      "270/270 [==============================] - 1s 2ms/step - loss: 3.0489e-06 - accuracy: 1.0000 - val_loss: 0.3043 - val_accuracy: 0.9600\n",
      "Epoch 91/100\n",
      "270/270 [==============================] - 1s 2ms/step - loss: 2.6726e-06 - accuracy: 1.0000 - val_loss: 0.2875 - val_accuracy: 0.9633\n",
      "Epoch 92/100\n",
      "270/270 [==============================] - 1s 2ms/step - loss: 2.3790e-06 - accuracy: 1.0000 - val_loss: 0.3023 - val_accuracy: 0.9633\n",
      "Epoch 93/100\n",
      "270/270 [==============================] - 1s 2ms/step - loss: 2.0632e-06 - accuracy: 1.0000 - val_loss: 0.3196 - val_accuracy: 0.9633\n",
      "Epoch 94/100\n",
      "270/270 [==============================] - 0s 2ms/step - loss: 1.7987e-06 - accuracy: 1.0000 - val_loss: 0.3227 - val_accuracy: 0.9633\n",
      "Epoch 95/100\n",
      "270/270 [==============================] - 0s 2ms/step - loss: 1.5476e-06 - accuracy: 1.0000 - val_loss: 0.3087 - val_accuracy: 0.9633\n",
      "Epoch 96/100\n",
      "270/270 [==============================] - 0s 2ms/step - loss: 1.3486e-06 - accuracy: 1.0000 - val_loss: 0.3159 - val_accuracy: 0.9633\n",
      "Epoch 97/100\n",
      "270/270 [==============================] - 0s 2ms/step - loss: 1.1572e-06 - accuracy: 1.0000 - val_loss: 0.3072 - val_accuracy: 0.9633\n",
      "Epoch 98/100\n",
      "270/270 [==============================] - 0s 2ms/step - loss: 1.0734e-06 - accuracy: 1.0000 - val_loss: 0.3210 - val_accuracy: 0.9633\n",
      "Epoch 99/100\n",
      "270/270 [==============================] - 0s 2ms/step - loss: 9.0607e-07 - accuracy: 1.0000 - val_loss: 0.3117 - val_accuracy: 0.9633\n",
      "Epoch 100/100\n",
      "270/270 [==============================] - 0s 2ms/step - loss: 8.8042e-07 - accuracy: 1.0000 - val_loss: 0.3249 - val_accuracy: 0.9633\n"
     ]
    },
    {
     "data": {
      "text/plain": [
       "<keras.callbacks.History at 0x7f99a90c32e0>"
      ]
     },
     "execution_count": 10,
     "metadata": {},
     "output_type": "execute_result"
    }
   ],
   "source": [
    "model.fit(features, label, epochs=100, batch_size=10,validation_split=0.10)"
   ]
  },
  {
   "cell_type": "code",
   "execution_count": 11,
   "metadata": {},
   "outputs": [],
   "source": [
    "file=\"/home/shrinivasaprasada/Desktop/workspace/ml/audio/free-spoken-digit-dataset-master/recordings\"\n",
    "data, sr = librosa.load(\"/home/shrinivasaprasada/Desktop/workspace/ml/audio/free-spoken-digit-dataset-master/recordings/0_theo_15.wav\", res_type=\"kaiser_fast\")\n",
    "feature = librosa.feature.mfcc(y=data, sr=sr, n_mfcc=40)"
   ]
  },
  {
   "cell_type": "code",
   "execution_count": 12,
   "metadata": {},
   "outputs": [],
   "source": [
    "myselect=extract_features(\"/home/shrinivasaprasada/Desktop/workspace/ml/audio/free-spoken-digit-dataset-master/recordings\",\"0_theo_15.wav\")"
   ]
  },
  {
   "cell_type": "code",
   "execution_count": 13,
   "metadata": {},
   "outputs": [
    {
     "name": "stdout",
     "output_type": "stream",
     "text": [
      "1/1 [==============================] - 0s 102ms/step\n"
     ]
    }
   ],
   "source": [
    "pred=model.predict(myselect.reshape(1,40))"
   ]
  },
  {
   "cell_type": "code",
   "execution_count": 14,
   "metadata": {},
   "outputs": [
    {
     "data": {
      "text/html": [
       "\n",
       "                <audio  controls=\"controls\" >\n",
       "                    <source src=\"data:audio/wav;base64,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\" type=\"audio/wav\" />\n",
       "                    Your browser does not support the audio element.\n",
       "                </audio>\n",
       "              "
      ],
      "text/plain": [
       "<IPython.lib.display.Audio object>"
      ]
     },
     "execution_count": 14,
     "metadata": {},
     "output_type": "execute_result"
    }
   ],
   "source": [
    "info=np.array(pred,dtype=np.int32)\n",
    "ids.Audio(data,rate=sr)"
   ]
  },
  {
   "cell_type": "code",
   "execution_count": 15,
   "metadata": {},
   "outputs": [
    {
     "data": {
      "text/plain": [
       "array([[1.0000000e+00, 3.8796017e-29, 3.4379363e-14, 1.4419268e-11,\n",
       "        1.0869610e-22, 2.7481616e-24, 8.6496536e-17, 4.3106865e-16,\n",
       "        7.7645220e-29, 1.2380003e-22]], dtype=float32)"
      ]
     },
     "execution_count": 15,
     "metadata": {},
     "output_type": "execute_result"
    }
   ],
   "source": [
    "pred"
   ]
  },
  {
   "cell_type": "code",
   "execution_count": 19,
   "metadata": {},
   "outputs": [],
   "source": [
    "model.save_weights(\"audioMETA.h5\")"
   ]
  },
  {
   "cell_type": "code",
   "execution_count": null,
   "metadata": {},
   "outputs": [],
   "source": [
    "model_json = model.to_json() \n",
    "# json_file.write(model_json)\n",
    "\n",
    "with open(\"Model.json\", \"w\") as json_file:\n",
    "    json_file.write(model_json)\n"
   ]
  }
 ],
 "metadata": {
  "kernelspec": {
   "display_name": "Python 3 (ipykernel)",
   "language": "python",
   "name": "python3"
  },
  "language_info": {
   "codemirror_mode": {
    "name": "ipython",
    "version": 3
   },
   "file_extension": ".py",
   "mimetype": "text/x-python",
   "name": "python",
   "nbconvert_exporter": "python",
   "pygments_lexer": "ipython3",
   "version": "3.10.8"
  },
  "vscode": {
   "interpreter": {
    "hash": "e6f158a32770d7e21c36600cbd8563b877ecaa9f945de1cdb7012005e9cffb6d"
   }
  }
 },
 "nbformat": 4,
 "nbformat_minor": 2
}
